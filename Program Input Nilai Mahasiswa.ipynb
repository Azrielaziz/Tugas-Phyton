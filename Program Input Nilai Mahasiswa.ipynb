{
 "cells": [
  {
   "cell_type": "code",
   "execution_count": null,
   "metadata": {},
   "outputs": [],
   "source": [
    "nama = input(\"Nama Mahasiswa: \")\n",
    "alamat = input(\"Alamat: \")\n",
    "nrp = input(\"NRP: \")\n",
    "tahun = input(\"Angkatan: \")\n",
    "\n",
    "print(\"\")\n",
    "print(\"Nilai Semester 1\")\n",
    "\n",
    "n = input(\"Matematika: \")\n",
    "n = int(n)\n",
    "o = input (\"Fisika: \")\n",
    "o = int(o)\n",
    "p = input(\"Kimia: \")\n",
    "p = int(p)\n",
    "\n",
    "q = (n+o+p)/3\n",
    "print('{:^120}'.format('---------------------------------------------------------------------------'))\n",
    "print(\"Nilai Rata-rata: \",round(q,2))\n",
    "if q <= 20:\n",
    "    print('Nilai E')\n",
    "elif 20<q<=40:\n",
    "    print('Nilai D')\n",
    "elif 40<q<=60:\n",
    "    print('Nilai C')\n",
    "elif 60<q<=80:\n",
    "    print('Nilai B')\n",
    "else:\n",
    "    print('Nilai A')\n",
    "\n",
    "if q <= 40:\n",
    "    print('tidak lulus')\n",
    "else:\n",
    "    print('lulus')\n",
    "    \n",
    "if q >= 80:\n",
    "    print('cumlaude')\n",
    "else:\n",
    "    print('tidak cumlaude')\n",
    "\n",
    "print('{:^120}'.format('Rekap Nilai Semester 1'))\n",
    "print('{:^120}'.format('Mahasiswa Departemen Teknik Geofisika'))\n",
    "print('{:^120}'.format('-------------------------------------------------------------------------------'))"
   ]
  }
 ],
 "metadata": {
  "kernelspec": {
   "display_name": "Python 3",
   "language": "python",
   "name": "python3"
  },
  "language_info": {
   "codemirror_mode": {
    "name": "ipython",
    "version": 3
   },
   "file_extension": ".py",
   "mimetype": "text/x-python",
   "name": "python",
   "nbconvert_exporter": "python",
   "pygments_lexer": "ipython3",
   "version": "3.7.4"
  }
 },
 "nbformat": 4,
 "nbformat_minor": 2
}
